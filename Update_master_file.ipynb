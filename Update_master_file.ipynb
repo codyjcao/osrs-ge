{
 "cells": [
  {
   "cell_type": "code",
   "execution_count": 2,
   "id": "55d690d0-500a-49e0-bf98-fb554f16b986",
   "metadata": {},
   "outputs": [],
   "source": [
    "from osrs_GE import *"
   ]
  },
  {
   "cell_type": "code",
   "execution_count": 3,
   "id": "175aa18b-08e2-4df4-a61e-d1687015ed1f",
   "metadata": {},
   "outputs": [
    {
     "name": "stdout",
     "output_type": "stream",
     "text": [
      "Retrieving data for item 453 (Coal)\n",
      "Item 453 (Coal) data retrieved successfully\n",
      "Retrieving data for item 2353 (Steel bar)\n",
      "Item 2353 (Steel bar) data retrieved successfully\n",
      "Retrieving data for item 444 (Gold ore)\n",
      "Item 444 (Gold ore) data retrieved successfully\n",
      "Retrieving data for item 561 (Nature rune)\n",
      "Item 561 (Nature rune) data retrieved successfully\n",
      "Retrieving data for item 560 (Death rune)\n",
      "Item 560 (Death rune) data retrieved successfully\n",
      "Retrieving data for item 7936 (Pure essence)\n",
      "Item 7936 (Pure essence) data retrieved successfully\n",
      "Retrieving data for item 1515 (Yew logs)\n",
      "Item 1515 (Yew logs) data retrieved successfully\n",
      "Retrieving data for item 1513 (Magic logs)\n",
      "Item 1513 (Magic logs) data retrieved successfully\n",
      "Retrieving data for item 1739 (Cowhide)\n",
      "Item 1739 (Cowhide) data retrieved successfully\n",
      "Retrieving data for item 377 (Raw lobster)\n",
      "Item 377 (Raw lobster) data retrieved successfully\n",
      "Retrieving data for item 7944 (Raw monkfish)\n",
      "Item 7944 (Raw monkfish) data retrieved successfully\n",
      "Retrieving data for item 1779 (Flax)\n",
      "Item 1779 (Flax) data retrieved successfully\n",
      "Retrieving data for item 1761 (Soft clay)\n",
      "Item 1761 (Soft clay) data retrieved successfully\n",
      "Retrieving data for item 225 (Limpwurt root)\n",
      "Item 225 (Limpwurt root) data retrieved successfully\n",
      "Retrieving data for item 231 (Snape grass)\n",
      "Item 231 (Snape grass) data retrieved successfully\n",
      "Retrieving data for item 3000 (Snapdragon)\n",
      "Item 3000 (Snapdragon) data retrieved successfully\n",
      "Retrieving data for item 263 (Kwuarm)\n",
      "Item 263 (Kwuarm) data retrieved successfully\n",
      "Retrieving data for item 4151 (Abyssal whip)\n",
      "Item 4151 (Abyssal whip) data retrieved successfully\n",
      "Retrieving data for item 11840 (Dragon boots)\n",
      "Item 11840 (Dragon boots) data retrieved successfully\n",
      "Retrieving data for item 13024 (Rune armour set (lg))\n",
      "Item 13024 (Rune armour set (lg)) data retrieved successfully\n",
      "Retrieving data for item 10034 (Red chinchompa)\n",
      "Item 10034 (Red chinchompa) data retrieved successfully\n",
      "Retrieving data for item 8778 (Oak plank)\n",
      "Item 8778 (Oak plank) data retrieved successfully\n",
      "Retrieving data for item 385 (Shark)\n",
      "Item 385 (Shark) data retrieved successfully\n",
      "Retrieving data for item 1753 (Green dragonhide)\n",
      "Item 1753 (Green dragonhide) data retrieved successfully\n",
      "Retrieving data for item 536 (Dragon bones)\n",
      "Item 536 (Dragon bones) data retrieved successfully\n",
      "Retrieving data for item 2 (Cannonball)\n",
      "Item 2 (Cannonball) data retrieved successfully\n",
      "Retrieving data for item 11284 (Dragonfire shield)\n",
      "Item 11284 (Dragonfire shield) data retrieved successfully\n",
      "Saving file... Master Files/master_file_6h.csv\n",
      "Retrieving data for item 453 (Coal)\n",
      "Item 453 (Coal) data retrieved successfully\n",
      "Retrieving data for item 2353 (Steel bar)\n",
      "Item 2353 (Steel bar) data retrieved successfully\n",
      "Retrieving data for item 444 (Gold ore)\n",
      "Item 444 (Gold ore) data retrieved successfully\n",
      "Retrieving data for item 561 (Nature rune)\n",
      "Item 561 (Nature rune) data retrieved successfully\n",
      "Retrieving data for item 560 (Death rune)\n",
      "Item 560 (Death rune) data retrieved successfully\n",
      "Retrieving data for item 7936 (Pure essence)\n",
      "Item 7936 (Pure essence) data retrieved successfully\n",
      "Retrieving data for item 1515 (Yew logs)\n",
      "Item 1515 (Yew logs) data retrieved successfully\n",
      "Retrieving data for item 1513 (Magic logs)\n",
      "Item 1513 (Magic logs) data retrieved successfully\n",
      "Retrieving data for item 1739 (Cowhide)\n",
      "Item 1739 (Cowhide) data retrieved successfully\n",
      "Retrieving data for item 377 (Raw lobster)\n",
      "Item 377 (Raw lobster) data retrieved successfully\n",
      "Retrieving data for item 7944 (Raw monkfish)\n",
      "Item 7944 (Raw monkfish) data retrieved successfully\n",
      "Retrieving data for item 1779 (Flax)\n",
      "Item 1779 (Flax) data retrieved successfully\n",
      "Retrieving data for item 1761 (Soft clay)\n",
      "Item 1761 (Soft clay) data retrieved successfully\n",
      "Retrieving data for item 225 (Limpwurt root)\n",
      "Item 225 (Limpwurt root) data retrieved successfully\n",
      "Retrieving data for item 231 (Snape grass)\n",
      "Item 231 (Snape grass) data retrieved successfully\n",
      "Retrieving data for item 3000 (Snapdragon)\n",
      "Item 3000 (Snapdragon) data retrieved successfully\n",
      "Retrieving data for item 263 (Kwuarm)\n",
      "Item 263 (Kwuarm) data retrieved successfully\n",
      "Retrieving data for item 4151 (Abyssal whip)\n",
      "Item 4151 (Abyssal whip) data retrieved successfully\n",
      "Retrieving data for item 11840 (Dragon boots)\n",
      "Item 11840 (Dragon boots) data retrieved successfully\n",
      "Retrieving data for item 13024 (Rune armour set (lg))\n",
      "Item 13024 (Rune armour set (lg)) data retrieved successfully\n",
      "Retrieving data for item 10034 (Red chinchompa)\n",
      "Item 10034 (Red chinchompa) data retrieved successfully\n",
      "Retrieving data for item 8778 (Oak plank)\n",
      "Item 8778 (Oak plank) data retrieved successfully\n",
      "Retrieving data for item 385 (Shark)\n",
      "Item 385 (Shark) data retrieved successfully\n",
      "Retrieving data for item 1753 (Green dragonhide)\n",
      "Item 1753 (Green dragonhide) data retrieved successfully\n",
      "Retrieving data for item 536 (Dragon bones)\n",
      "Item 536 (Dragon bones) data retrieved successfully\n",
      "Retrieving data for item 2 (Cannonball)\n",
      "Item 2 (Cannonball) data retrieved successfully\n",
      "Retrieving data for item 11284 (Dragonfire shield)\n",
      "Item 11284 (Dragonfire shield) data retrieved successfully\n",
      "Saving file... Master Files/master_file_24h.csv\n"
     ]
    }
   ],
   "source": [
    "# updating CTI master file\n",
    "update_master_file('6h' , False)\n",
    "update_master_file('24h', False)"
   ]
  },
  {
   "cell_type": "code",
   "execution_count": 3,
   "id": "d31bc774-51f6-4a95-94fe-dc02ec72de64",
   "metadata": {},
   "outputs": [
    {
     "data": {
      "text/plain": [
       "date\n",
       "2024-08-02 06:00:00    107.716847\n",
       "2024-08-02 12:00:00    107.857182\n",
       "2024-08-02 18:00:00    107.505594\n",
       "2024-08-03 00:00:00    106.746692\n",
       "2024-08-03 06:00:00    106.351120\n",
       "                          ...    \n",
       "2024-10-31 12:00:00    105.208453\n",
       "2024-10-31 18:00:00    104.533069\n",
       "2024-11-01 00:00:00    104.260705\n",
       "2024-11-01 06:00:00    104.091943\n",
       "2024-11-01 12:00:00    104.234499\n",
       "Name: CTI_px, Length: 366, dtype: float64"
      ]
     },
     "execution_count": 3,
     "metadata": {},
     "output_type": "execute_result"
    }
   ],
   "source": [
    "compute_CTI(interval='6h')"
   ]
  }
 ],
 "metadata": {
  "kernelspec": {
   "display_name": "Python 3 (ipykernel)",
   "language": "python",
   "name": "python3"
  },
  "language_info": {
   "codemirror_mode": {
    "name": "ipython",
    "version": 3
   },
   "file_extension": ".py",
   "mimetype": "text/x-python",
   "name": "python",
   "nbconvert_exporter": "python",
   "pygments_lexer": "ipython3",
   "version": "3.12.4"
  }
 },
 "nbformat": 4,
 "nbformat_minor": 5
}
