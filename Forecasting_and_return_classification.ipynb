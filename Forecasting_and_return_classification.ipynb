{
 "cells": [
  {
   "cell_type": "code",
   "execution_count": 2,
   "id": "049838f6-58dd-49ea-afd9-1ac63c8f03a0",
   "metadata": {},
   "outputs": [],
   "source": [
    "import osrs_GE_estimators\n",
    "import osrs_GE\n",
    "\n",
    "import numpy as np\n",
    "import pandas as pd"
   ]
  },
  {
   "cell_type": "code",
   "execution_count": 16,
   "id": "702df7f3-e20d-4134-bf54-cc41536a2dd9",
   "metadata": {},
   "outputs": [],
   "source": [
    "item_id = 11284 # dragonfire shield\n",
    "freq = '6h' # 6 hour data\n",
    "\n",
    "base_df = osrs_GE.load_item_ts(item_id,freq)\n",
    "\n",
    "df = base_df.copy()"
   ]
  },
  {
   "cell_type": "code",
   "execution_count": 28,
   "id": "31566f3f-f847-4b12-9de9-f11b8bafd049",
   "metadata": {},
   "outputs": [],
   "source": [
    "# generate the features\n"
   ]
  }
 ],
 "metadata": {
  "kernelspec": {
   "display_name": "Python 3 (ipykernel)",
   "language": "python",
   "name": "python3"
  },
  "language_info": {
   "codemirror_mode": {
    "name": "ipython",
    "version": 3
   },
   "file_extension": ".py",
   "mimetype": "text/x-python",
   "name": "python",
   "nbconvert_exporter": "python",
   "pygments_lexer": "ipython3",
   "version": "3.12.4"
  }
 },
 "nbformat": 4,
 "nbformat_minor": 5
}
